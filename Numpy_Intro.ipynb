{
  "nbformat": 4,
  "nbformat_minor": 0,
  "metadata": {
    "colab": {
      "provenance": []
    },
    "kernelspec": {
      "name": "python3",
      "display_name": "Python 3"
    },
    "language_info": {
      "name": "python"
    }
  },
  "cells": [
    {
      "cell_type": "code",
      "execution_count": 2,
      "metadata": {
        "colab": {
          "base_uri": "https://localhost:8080/"
        },
        "id": "FQtdXt8H2Edz",
        "outputId": "287206b3-aa44-4e3b-9f12-123a36b3c940"
      },
      "outputs": [
        {
          "output_type": "execute_result",
          "data": {
            "text/plain": [
              "array([[1, 2, 3],\n",
              "       [4, 5, 6]])"
            ]
          },
          "metadata": {},
          "execution_count": 2
        }
      ],
      "source": [
        "import numpy as np\n",
        "\n",
        "a = np.array([[1,2,3],[4,5,6]])\n",
        "\n",
        "a"
      ]
    },
    {
      "cell_type": "markdown",
      "source": [
        " **TIME EFFICENCY**"
      ],
      "metadata": {
        "id": "ToKZnmQr87Z8"
      }
    },
    {
      "cell_type": "code",
      "source": [
        "import time as t"
      ],
      "metadata": {
        "id": "ZcYy1d2k288w"
      },
      "execution_count": 3,
      "outputs": []
    },
    {
      "cell_type": "code",
      "source": [
        "l1 = list(range(100000))\n",
        "l2 = list(range(100000,200000))\n",
        "\n",
        "b1 = np.array(l1)\n",
        "b2 = np.array(l2)"
      ],
      "metadata": {
        "id": "bjn-j4eJ3B57"
      },
      "execution_count": 4,
      "outputs": []
    },
    {
      "cell_type": "code",
      "source": [
        "t1 = t.time()\n",
        "for i in range(len(l1)):\n",
        "  x = l1[i]+l2[i]\n",
        "\n",
        "t2 = t.time()\n",
        "print((t2-t1)*1000,\"Milisecond\")\n",
        "\n",
        "t1 = t.time()\n",
        "b1+b2\n",
        "t2 = t.time()\n",
        "print((t2-t1)*1000,'Milisecond')\n",
        "\n"
      ],
      "metadata": {
        "colab": {
          "base_uri": "https://localhost:8080/"
        },
        "id": "AGEjgRTS3Zj9",
        "outputId": "59d8672c-b577-464b-b070-00075d052a7c"
      },
      "execution_count": 8,
      "outputs": [
        {
          "output_type": "stream",
          "name": "stdout",
          "text": [
            "29.29210662841797 Milisecond\n",
            "7.355690002441406 Milisecond\n"
          ]
        }
      ]
    },
    {
      "cell_type": "markdown",
      "source": [
        "MEMORY"
      ],
      "metadata": {
        "id": "SL__hmf39HvP"
      }
    },
    {
      "cell_type": "code",
      "source": [
        "import sys"
      ],
      "metadata": {
        "id": "j6zPh_gG9KaU"
      },
      "execution_count": 13,
      "outputs": []
    },
    {
      "cell_type": "code",
      "source": [
        "sys.getsizeof(l1)\n"
      ],
      "metadata": {
        "colab": {
          "base_uri": "https://localhost:8080/"
        },
        "id": "1ClaLYlx9PEw",
        "outputId": "c6892b68-0adf-4ee8-9400-b014ac547f2b"
      },
      "execution_count": 14,
      "outputs": [
        {
          "output_type": "execute_result",
          "data": {
            "text/plain": [
              "800056"
            ]
          },
          "metadata": {},
          "execution_count": 14
        }
      ]
    },
    {
      "cell_type": "code",
      "source": [
        "sys.getsizeof(b1)"
      ],
      "metadata": {
        "colab": {
          "base_uri": "https://localhost:8080/"
        },
        "id": "0U-8VwX49bz4",
        "outputId": "83859b3e-c129-425d-f6a0-801b6347dbda"
      },
      "execution_count": 15,
      "outputs": [
        {
          "output_type": "execute_result",
          "data": {
            "text/plain": [
              "800112"
            ]
          },
          "metadata": {},
          "execution_count": 15
        }
      ]
    }
  ]
}